{
 "cells": [
  {
   "attachments": {},
   "cell_type": "markdown",
   "metadata": {
    "pycharm": {
     "name": "#%% md\n"
    }
   },
   "source": [
    "## Assessment2 CNN \n",
    "\n",
    "## Practical Exploration of Hebbian Learning - Part 1\n",
    "\n",
    "- **(2-4):** Run your implementation of the Hebb rule on `data_HL_simple.txt`, and inspect the weights $w$ after every step of the algorithm. Identify the correlational pattern that the algorithm discovers. Are there any positively or negatively correlated features in these data according to the pattern seen in $w$?\n",
    "\n",
    "After multiple computation of the new weight, we notice 3 different correlation:\n",
    "    1: Outputs 0, 1, 2, and 3 are positive correlated, they are either all positive or all negative.\n",
    "    2: The four first values are negative correlated with the last value. When the first values are positive, the last one is negative and vice versa.\n",
    "    3: Outputs 2 and 3 are positive carrelated, they are very similar to each other.\n"
   ]
  },
  {
   "cell_type": "code",
   "execution_count": 25,
   "metadata": {
    "execution": {
     "iopub.execute_input": "2022-11-01T20:49:55.597050Z",
     "iopub.status.busy": "2022-11-01T20:49:55.596709Z",
     "iopub.status.idle": "2022-11-01T20:49:55.620005Z",
     "shell.execute_reply": "2022-11-01T20:49:55.621114Z"
    },
    "pycharm": {
     "name": "#%%\n"
    },
    "vscode": {
     "languageId": "python"
    }
   },
   "outputs": [
    {
     "name": "stdout",
     "output_type": "stream",
     "text": [
      "[[-1.  0. -1. -1.  1.]\n",
      " [-1. -1. -1. -1.  1.]\n",
      " [ 1.  0.  1.  1. -1.]\n",
      " [ 0. -1.  0.  0.  0.]]\n",
      "initial weights\n",
      "[ 0.03530203  0.02474569 -0.51594166 -0.73705723 -0.4430591 ]\n",
      "\tCurrent input: [0. 0. 0. 0. 0.]\n",
      "New Weights:\n",
      "[ 0.00164315  0.00738685 -0.57651629 -0.79763185 -0.38248448]\n",
      "\tCurrent input: [-1.  0. -1. -1.  1.]\n",
      "New Weights:\n",
      "[-0.02012892 -0.00384225 -0.62906251 -0.85017808 -0.32993825]\n",
      "\tCurrent input: [0. 1. 0. 0. 0.]\n",
      "New Weights:\n",
      "[-0.02081886 -0.00441551 -0.67714504 -0.8982606  -0.28185573]\n",
      "\tCurrent input: [ 0.  0.  1.  1. -1.]\n",
      "New Weights:\n",
      "[-0.00553025 -0.01780742 -0.77598042 -0.99709598 -0.18302035]\n",
      "\tCurrent input: [ 1.  1.  1.  1. -1.]\n",
      "New Weights:\n",
      "[-0.04518612 -0.00263245 -0.89740037 -1.11851594 -0.06160039]\n",
      "\tCurrent input: [0. 0. 0. 0. 0.]\n",
      "New Weights:\n",
      "[-0.1326124  -0.04798183 -1.05079991 -1.27191548  0.09179915]\n",
      "\tCurrent input: [-1.  0. -1. -1.  1.]\n",
      "New Weights:\n",
      "[-0.19402034 -0.08084271 -1.18231055 -1.40342612  0.22330978]\n",
      "\tCurrent input: [0. 1. 0. 0. 0.]\n",
      "New Weights:\n",
      "[-0.20155994 -0.08815155 -1.29983058 -1.52094614  0.34082981]\n",
      "\tCurrent input: [ 0.  0.  1.  1. -1.]\n",
      "New Weights:\n",
      "[-0.16940357 -0.1217515  -1.54083226 -1.76194782  0.58183149]\n",
      "\tCurrent input: [ 1.  1.  1.  1. -1.]\n",
      "New Weights:\n",
      "[-0.27328696 -0.09112011 -1.8395795  -2.06069507  0.88057873]\n",
      "\tCurrent input: [0. 0. 0. 0. 0.]\n",
      "New Weights:\n",
      "[-0.49498528 -0.20659287 -2.22402611 -2.44514167  1.26502534]\n",
      "\tCurrent input: [-1.  0. -1. -1.  1.]\n",
      "New Weights:\n",
      "[-0.6564462  -0.29447073 -2.55173202 -2.77284758  1.59273125]\n",
      "\tCurrent input: [0. 1. 0. 0. 0.]\n",
      "New Weights:\n",
      "[-0.68238087 -0.32005214 -2.8411265  -3.06224207  1.88212573]\n",
      "\tCurrent input: [ 0.  0.  1.  1. -1.]\n",
      "New Weights:\n",
      "[-0.60954692 -0.40409069 -3.4339866  -3.65510216  2.47498583]\n",
      "\tCurrent input: [ 1.  1.  1.  1. -1.]\n",
      "New Weights:\n",
      "[-0.87402576 -0.33709825 -4.17202863 -4.3931442   3.21302787]\n",
      "\tCurrent input: [0. 0. 0. 0. 0.]\n",
      "New Weights:\n",
      "[-1.42994877 -0.62742226 -5.1306646  -5.35178017  4.17166384]\n",
      "\tCurrent input: [-1.  0. -1. -1.  1.]\n",
      "New Weights:\n",
      "[-1.84178064 -0.85350644 -5.94551224 -6.16662781  4.98651147]\n",
      "\tCurrent input: [0. 1. 0. 0. 0.]\n",
      "New Weights:\n",
      "[-1.91509964 -0.92639168 -6.66085604 -6.88197161  5.70185528]\n",
      "\tCurrent input: [ 0.  0.  1.  1. -1.]\n",
      "New Weights:\n",
      "[-1.74276202 -1.13598584 -8.12568228 -8.34679784  7.16668151]\n",
      "\tCurrent input: [ 1.  1.  1.  1. -1.]\n",
      "New Weights:\n",
      "[ -2.40723903  -0.98129751  -9.95284886 -10.17396443   8.99384809]\n",
      "\tCurrent input: [0. 0. 0. 0. 0.]\n",
      "New Weights:\n",
      "[ -3.79377164  -1.70656579 -12.3373255  -12.55844106  11.37832473]\n",
      "\tCurrent input: [-1.  0. -1. -1.  1.]\n",
      "New Weights:\n",
      "[ -4.82946109  -2.2777147  -14.36131586 -14.58243143  13.40231509]\n",
      "\tCurrent input: [0. 1. 0. 0. 0.]\n",
      "New Weights:\n",
      "[ -5.02252142  -2.47044727 -16.13291716 -16.35403273  15.17391639]\n",
      "\tCurrent input: [ 0.  0.  1.  1. -1.]\n",
      "New Weights:\n",
      "[ -4.60502549  -2.99212193 -19.76000309 -19.98111866  18.80100232]\n",
      "\tCurrent input: [ 1.  1.  1.  1. -1.]\n",
      "New Weights:\n",
      "[ -6.26388286  -2.62303679 -24.28847491 -24.50959047  23.32947414]\n",
      "\tCurrent input: [0. 0. 0. 0. 0.]\n",
      "New Weights:\n",
      "[ -9.71300326  -4.42891017 -30.21225598 -30.43337154  29.25325521]\n",
      "\tCurrent input: [-1.  0. -1. -1.  1.]\n",
      "New Weights:\n",
      "[-12.29990648  -5.8589548  -35.23698165 -35.45809722  34.27798089]\n",
      "\tCurrent input: [0. 1. 0. 0. 0.]\n",
      "New Weights:\n",
      "[-12.79277858  -6.35217489 -39.62866293 -39.84977849  38.66966216]\n",
      "\tCurrent input: [ 0.  0.  1.  1. -1.]\n",
      "New Weights:\n",
      "[-11.76909305  -7.64893091 -48.61930176 -48.84041732  47.66030099]\n",
      "\tCurrent input: [ 1.  1.  1.  1. -1.]\n",
      "New Weights:\n",
      "[-15.89760603  -6.75191896 -59.8490727  -60.07018827  58.89007193]\n",
      "[-15.89760603  -6.75191896 -59.8490727  -60.07018827  58.89007193]\n"
     ]
    }
   ],
   "source": [
    "import numpy as np\n",
    "\n",
    "\n",
    "# load data from the text file\n",
    "data = np.loadtxt('data_HL_simple.txt', usecols=range(5))\n",
    "print(data[1:5,:])\n",
    "\n",
    "# we need a vector of 5 parameters\n",
    "w = np.random.normal(0, 0.5, 5)\n",
    "\n",
    "print(\"initial weights\")\n",
    "print(w)\n",
    "\n",
    "# learning rate; don't change the learning rate epsilon when you are working on questions 2 and 3, unless you really know what you are doing. You may want to make the learning rate dependent on the epoch number to converge to a stable solution.\n",
    "epsilon = 0.01\n",
    "\n",
    "num_iterations = 6\n",
    "\n",
    "update = 0\n",
    "# we can do a fixed number of iterations because the simple Hebb rule won't converge\n",
    "for i in range(num_iterations):\n",
    "    for x in data:\n",
    "\n",
    "        # compute the linear activation, use the dot() function from numpy to multiply the two array (w = weight and x = one array from data)\n",
    "        y_j = np.dot(w, x)\n",
    "\n",
    "        # compute the Simple Hebbian rule, multiply the array x (data) with y_j (linear activation calculated previously), and multiply it with epsilon (learning rate)\n",
    "        hebb = epsilon * y_j * x\n",
    "\n",
    "        # update the weights by adding the result of the Hebian rule with the old weight\n",
    "        w = w + hebb\n",
    "\n",
    "\n",
    "        update = update + 1\n",
    "        if update % 10 == 0:\n",
    "            # print every 10th update\n",
    "            print(\"\\tCurrent input: \" + str(x))\n",
    "            # print the weights for every x to see how they are evolving\n",
    "            print(\"New Weights:\\n\" + str(w))\n",
    "\n",
    "# the final weights\n",
    "print(w)\n"
   ]
  },
  {
   "attachments": {},
   "cell_type": "markdown",
   "metadata": {},
   "source": [
    "### Question 3 - Oja's Rule"
   ]
  },
  {
   "cell_type": "code",
   "execution_count": 26,
   "metadata": {
    "execution": {
     "iopub.execute_input": "2022-11-01T20:49:55.834966Z",
     "iopub.status.busy": "2022-11-01T20:49:55.834637Z",
     "iopub.status.idle": "2022-11-01T20:49:56.041124Z",
     "shell.execute_reply": "2022-11-01T20:49:56.041661Z"
    },
    "pycharm": {
     "name": "#%%\n"
    },
    "vscode": {
     "languageId": "python"
    }
   },
   "outputs": [
    {
     "name": "stdout",
     "output_type": "stream",
     "text": [
      "all principal components:\n",
      "[[0.01640681 0.02155885 0.40640946 0.4106701  0.81574963]]\n"
     ]
    },
    {
     "data": {
      "image/png": "[encoded data removed]",
      "text/plain": [
       "<Figure size 640x480 with 1 Axes>"
      ]
     },
     "metadata": {},
     "output_type": "display_data"
    }
   ],
   "source": [
    "import numpy as np\n",
    "import matplotlib.pyplot as plt\n",
    "from sklearn.decomposition import PCA\n",
    "\n",
    "# load data from the text file\n",
    "data = np.loadtxt('data_two_groups.txt', usecols=range(5))\n",
    "# print(\"original data\")\n",
    "# print(data)\n",
    "\n",
    "# do PCA and show the data in 1D\n",
    "plt.figure(1)\n",
    "pca = PCA(n_components=1)\n",
    "# fit the model parameters\n",
    "pca.fit(data)\n",
    "print(\"all principal components:\")\n",
    "print(pca.components_)\n",
    "# project the data to the new dimension\n",
    "data_pca = pca.transform(data)\n",
    "# a vector of zeros for the scatter plot\n",
    "yaxis = np.zeros(data_pca.shape[0])\n",
    "plt.scatter(data_pca[:,0], yaxis)\n",
    "plt.show()"
   ]
  },
  {
   "cell_type": "markdown",
   "metadata": {},
   "source": [
    "- **(3-4):** The next step requires coding. Extend the code that implements simple Hebbian learning above and implement Oja's rule to learn one principal component for these data. We are interested in exactly one principal component in this exercise. Your implementation of Oja's rule should appear in the Python block below."
   ]
  },
  {
   "cell_type": "code",
   "execution_count": 27,
   "metadata": {
    "execution": {
     "iopub.execute_input": "2022-11-01T20:49:56.044329Z",
     "iopub.status.busy": "2022-11-01T20:49:56.043806Z",
     "iopub.status.idle": "2022-11-01T20:49:56.045926Z",
     "shell.execute_reply": "2022-11-01T20:49:56.045387Z"
    },
    "pycharm": {
     "name": "#%%\n"
    },
    "vscode": {
     "languageId": "python"
    }
   },
   "outputs": [
    {
     "name": "stdout",
     "output_type": "stream",
     "text": [
      "[[-0.20752314 -0.36773773  1.22059844  0.55048877  1.88427215]\n",
      " [-1.57125555  1.32390861 -1.47812951 -1.43172722 -3.19127369]\n",
      " [-0.82290562  2.27103446 -2.12484964 -2.12484964 -4.13049738]\n",
      " [ 0.97027764  0.91336865 -3.52387133 -3.22573866 -6.63143683]]\n",
      "initial weights\n",
      "[-0.41851993 -0.15838931  0.09469572  0.08933236  0.10538525]\n",
      "\tCurrent input: [-0.14225842  0.92044523 -1.62046158 -1.62046158 -3.44263005]\n",
      "New Weights:\n",
      "[-0.22969166 -0.16006168  0.35634955  0.34378201  0.65635554]\n",
      "\tCurrent input: [ 1.04787451 -0.18319438  0.8286063   2.55352384  3.10636035]\n",
      "New Weights:\n",
      "[-0.02823477 -0.02513972  0.41591796  0.39952284  0.82264504]\n",
      "\tCurrent input: [-0.64991566  0.56822123  4.02756301  4.02756301  8.35542888]\n",
      "New Weights:\n",
      "[-0.06732398  0.05672893  0.39917106  0.39864149  0.82794366]\n",
      "\tCurrent input: [ 1.17858979 -0.62115521  2.18768608  2.18768608  4.23762284]\n",
      "New Weights:\n",
      "[ 0.07010628 -0.03317625  0.39781174  0.41983508  0.81611932]\n",
      "\tCurrent input: [ 0.43291965 -1.92305982  2.43448814  2.44039988  5.1292251 ]\n",
      "New Weights:\n",
      "[ 0.06397706 -0.12108689  0.41542341  0.38823745  0.82164642]\n",
      "\tCurrent input: [ 1.00493675 -0.45095789  1.27932744  1.27932744  2.74903112]\n",
      "New Weights:\n",
      "[ 0.01068019 -0.01093746  0.40629501  0.41871959  0.81746748]\n",
      "\tCurrent input: [ 0.9102205  -2.05750114 -2.51038077 -2.51038077 -4.85513938]\n",
      "New Weights:\n",
      "[-0.08678228  0.12743403  0.41752216  0.40939691  0.80970383]\n",
      "\tCurrent input: [ 1.21952826 -1.10204926 -1.41856678 -3.20466734 -4.61156575]\n",
      "New Weights:\n",
      "[-0.0877217   0.07554782  0.35574569  0.46667177  0.81021973]\n",
      "\tCurrent input: [0.31282946 0.26833798 2.86240436 2.86240436 5.55783425]\n",
      "New Weights:\n",
      "[0.05950772 0.04580192 0.42563765 0.39955128 0.80922673]\n",
      "\tCurrent input: [ 0.2249605  -2.13872179 -1.74648565 -1.74648565 -3.80626361]\n",
      "New Weights:\n",
      "[0.01013898 0.06948741 0.40159127 0.41706502 0.82141671]\n",
      "\tCurrent input: [-0.14225842  0.92044523 -1.62046158 -1.62046158 -3.44263005]\n",
      "New Weights:\n",
      "[ 0.0998458  -0.0304824   0.41120146  0.40271576  0.82136604]\n",
      "\tCurrent input: [ 1.04787451 -0.18319438  0.8286063   2.55352384  3.10636035]\n",
      "New Weights:\n",
      "[-0.02391611 -0.02233882  0.41544157  0.39961639  0.82301375]\n",
      "\tCurrent input: [-0.64991566  0.56822123  4.02756301  4.02756301  8.35542888]\n",
      "New Weights:\n",
      "[-0.06731855  0.05672696  0.39918617  0.39865821  0.8279745 ]\n",
      "\tCurrent input: [ 1.17858979 -0.62115521  2.18768608  2.18768608  4.23762284]\n",
      "New Weights:\n",
      "[ 0.07010676 -0.0331765   0.39781175  0.41983514  0.81611924]\n",
      "\tCurrent input: [ 0.43291965 -1.92305982  2.43448814  2.44039988  5.1292251 ]\n",
      "New Weights:\n",
      "[ 0.06397708 -0.1210869   0.41542341  0.38823745  0.82164642]\n",
      "\tCurrent input: [ 1.00493675 -0.45095789  1.27932744  1.27932744  2.74903112]\n",
      "New Weights:\n",
      "[ 0.01068019 -0.01093746  0.40629501  0.41871959  0.81746748]\n",
      "\tCurrent input: [ 0.9102205  -2.05750114 -2.51038077 -2.51038077 -4.85513938]\n",
      "New Weights:\n",
      "[-0.08678228  0.12743403  0.41752216  0.40939691  0.80970383]\n",
      "\tCurrent input: [ 1.21952826 -1.10204926 -1.41856678 -3.20466734 -4.61156575]\n",
      "New Weights:\n",
      "[-0.0877217   0.07554782  0.35574569  0.46667177  0.81021973]\n",
      "\tCurrent input: [0.31282946 0.26833798 2.86240436 2.86240436 5.55783425]\n",
      "New Weights:\n",
      "[0.05950772 0.04580192 0.42563765 0.39955128 0.80922673]\n",
      "\tCurrent input: [ 0.2249605  -2.13872179 -1.74648565 -1.74648565 -3.80626361]\n",
      "New Weights:\n",
      "[0.01013898 0.06948741 0.40159127 0.41706502 0.82141671]\n",
      "\tCurrent input: [-0.14225842  0.92044523 -1.62046158 -1.62046158 -3.44263005]\n",
      "New Weights:\n",
      "[ 0.0998458  -0.0304824   0.41120146  0.40271576  0.82136604]\n",
      "\tCurrent input: [ 1.04787451 -0.18319438  0.8286063   2.55352384  3.10636035]\n",
      "New Weights:\n",
      "[-0.02391611 -0.02233882  0.41544157  0.39961639  0.82301375]\n",
      "\tCurrent input: [-0.64991566  0.56822123  4.02756301  4.02756301  8.35542888]\n",
      "New Weights:\n",
      "[-0.06731855  0.05672696  0.39918617  0.39865821  0.8279745 ]\n",
      "\tCurrent input: [ 1.17858979 -0.62115521  2.18768608  2.18768608  4.23762284]\n",
      "New Weights:\n",
      "[ 0.07010676 -0.0331765   0.39781175  0.41983514  0.81611924]\n",
      "\tCurrent input: [ 0.43291965 -1.92305982  2.43448814  2.44039988  5.1292251 ]\n",
      "New Weights:\n",
      "[ 0.06397708 -0.1210869   0.41542341  0.38823745  0.82164642]\n",
      "\tCurrent input: [ 1.00493675 -0.45095789  1.27932744  1.27932744  2.74903112]\n",
      "New Weights:\n",
      "[ 0.01068019 -0.01093746  0.40629501  0.41871959  0.81746748]\n",
      "\tCurrent input: [ 0.9102205  -2.05750114 -2.51038077 -2.51038077 -4.85513938]\n",
      "New Weights:\n",
      "[-0.08678228  0.12743403  0.41752216  0.40939691  0.80970383]\n",
      "\tCurrent input: [ 1.21952826 -1.10204926 -1.41856678 -3.20466734 -4.61156575]\n",
      "New Weights:\n",
      "[-0.0877217   0.07554782  0.35574569  0.46667177  0.81021973]\n",
      "\tCurrent input: [0.31282946 0.26833798 2.86240436 2.86240436 5.55783425]\n",
      "New Weights:\n",
      "[0.05950772 0.04580192 0.42563765 0.39955128 0.80922673]\n",
      "\tCurrent input: [ 0.2249605  -2.13872179 -1.74648565 -1.74648565 -3.80626361]\n",
      "New Weights:\n",
      "[0.01013898 0.06948741 0.40159127 0.41706502 0.82141671]\n",
      "\tCurrent input: [-0.14225842  0.92044523 -1.62046158 -1.62046158 -3.44263005]\n",
      "New Weights:\n",
      "[ 0.0998458  -0.0304824   0.41120146  0.40271576  0.82136604]\n",
      "\tCurrent input: [ 1.04787451 -0.18319438  0.8286063   2.55352384  3.10636035]\n",
      "New Weights:\n",
      "[-0.02391611 -0.02233882  0.41544157  0.39961639  0.82301375]\n",
      "\tCurrent input: [-0.64991566  0.56822123  4.02756301  4.02756301  8.35542888]\n",
      "New Weights:\n",
      "[-0.06731855  0.05672696  0.39918617  0.39865821  0.8279745 ]\n",
      "\tCurrent input: [ 1.17858979 -0.62115521  2.18768608  2.18768608  4.23762284]\n",
      "New Weights:\n",
      "[ 0.07010676 -0.0331765   0.39781175  0.41983514  0.81611924]\n",
      "\tCurrent input: [ 0.43291965 -1.92305982  2.43448814  2.44039988  5.1292251 ]\n",
      "New Weights:\n",
      "[ 0.06397708 -0.1210869   0.41542341  0.38823745  0.82164642]\n",
      "\tCurrent input: [ 1.00493675 -0.45095789  1.27932744  1.27932744  2.74903112]\n",
      "New Weights:\n",
      "[ 0.01068019 -0.01093746  0.40629501  0.41871959  0.81746748]\n",
      "\tCurrent input: [ 0.9102205  -2.05750114 -2.51038077 -2.51038077 -4.85513938]\n",
      "New Weights:\n",
      "[-0.08678228  0.12743403  0.41752216  0.40939691  0.80970383]\n",
      "\tCurrent input: [ 1.21952826 -1.10204926 -1.41856678 -3.20466734 -4.61156575]\n",
      "New Weights:\n",
      "[-0.0877217   0.07554782  0.35574569  0.46667177  0.81021973]\n",
      "\tCurrent input: [0.31282946 0.26833798 2.86240436 2.86240436 5.55783425]\n",
      "New Weights:\n",
      "[0.05950772 0.04580192 0.42563765 0.39955128 0.80922673]\n",
      "\tCurrent input: [ 0.2249605  -2.13872179 -1.74648565 -1.74648565 -3.80626361]\n",
      "New Weights:\n",
      "[0.01013898 0.06948741 0.40159127 0.41706502 0.82141671]\n",
      "\tCurrent input: [-0.14225842  0.92044523 -1.62046158 -1.62046158 -3.44263005]\n",
      "New Weights:\n",
      "[ 0.0998458  -0.0304824   0.41120146  0.40271576  0.82136604]\n",
      "\tCurrent input: [ 1.04787451 -0.18319438  0.8286063   2.55352384  3.10636035]\n",
      "New Weights:\n",
      "[-0.02391611 -0.02233882  0.41544157  0.39961639  0.82301375]\n",
      "\tCurrent input: [-0.64991566  0.56822123  4.02756301  4.02756301  8.35542888]\n",
      "New Weights:\n",
      "[-0.06731855  0.05672696  0.39918617  0.39865821  0.8279745 ]\n",
      "\tCurrent input: [ 1.17858979 -0.62115521  2.18768608  2.18768608  4.23762284]\n",
      "New Weights:\n",
      "[ 0.07010676 -0.0331765   0.39781175  0.41983514  0.81611924]\n",
      "\tCurrent input: [ 0.43291965 -1.92305982  2.43448814  2.44039988  5.1292251 ]\n",
      "New Weights:\n",
      "[ 0.06397708 -0.1210869   0.41542341  0.38823745  0.82164642]\n",
      "\tCurrent input: [ 1.00493675 -0.45095789  1.27932744  1.27932744  2.74903112]\n",
      "New Weights:\n",
      "[ 0.01068019 -0.01093746  0.40629501  0.41871959  0.81746748]\n",
      "\tCurrent input: [ 0.9102205  -2.05750114 -2.51038077 -2.51038077 -4.85513938]\n",
      "New Weights:\n",
      "[-0.08678228  0.12743403  0.41752216  0.40939691  0.80970383]\n",
      "\tCurrent input: [ 1.21952826 -1.10204926 -1.41856678 -3.20466734 -4.61156575]\n",
      "New Weights:\n",
      "[-0.0877217   0.07554782  0.35574569  0.46667177  0.81021973]\n",
      "\tCurrent input: [0.31282946 0.26833798 2.86240436 2.86240436 5.55783425]\n",
      "New Weights:\n",
      "[0.05950772 0.04580192 0.42563765 0.39955128 0.80922673]\n",
      "\tCurrent input: [ 0.2249605  -2.13872179 -1.74648565 -1.74648565 -3.80626361]\n",
      "New Weights:\n",
      "[0.01013898 0.06948741 0.40159127 0.41706502 0.82141671]\n",
      "\tCurrent input: [-0.14225842  0.92044523 -1.62046158 -1.62046158 -3.44263005]\n",
      "New Weights:\n",
      "[ 0.0998458  -0.0304824   0.41120146  0.40271576  0.82136604]\n",
      "\tCurrent input: [ 1.04787451 -0.18319438  0.8286063   2.55352384  3.10636035]\n",
      "New Weights:\n",
      "[-0.02391611 -0.02233882  0.41544157  0.39961639  0.82301375]\n",
      "\tCurrent input: [-0.64991566  0.56822123  4.02756301  4.02756301  8.35542888]\n",
      "New Weights:\n",
      "[-0.06731855  0.05672696  0.39918617  0.39865821  0.8279745 ]\n",
      "\tCurrent input: [ 1.17858979 -0.62115521  2.18768608  2.18768608  4.23762284]\n",
      "New Weights:\n",
      "[ 0.07010676 -0.0331765   0.39781175  0.41983514  0.81611924]\n",
      "\tCurrent input: [ 0.43291965 -1.92305982  2.43448814  2.44039988  5.1292251 ]\n",
      "New Weights:\n",
      "[ 0.06397708 -0.1210869   0.41542341  0.38823745  0.82164642]\n",
      "\tCurrent input: [ 1.00493675 -0.45095789  1.27932744  1.27932744  2.74903112]\n",
      "New Weights:\n",
      "[ 0.01068019 -0.01093746  0.40629501  0.41871959  0.81746748]\n",
      "\tCurrent input: [ 0.9102205  -2.05750114 -2.51038077 -2.51038077 -4.85513938]\n",
      "New Weights:\n",
      "[-0.08678228  0.12743403  0.41752216  0.40939691  0.80970383]\n",
      "\tCurrent input: [ 1.21952826 -1.10204926 -1.41856678 -3.20466734 -4.61156575]\n",
      "New Weights:\n",
      "[-0.0877217   0.07554782  0.35574569  0.46667177  0.81021973]\n",
      "\tCurrent input: [0.31282946 0.26833798 2.86240436 2.86240436 5.55783425]\n",
      "New Weights:\n",
      "[0.05950772 0.04580192 0.42563765 0.39955128 0.80922673]\n",
      "\tCurrent input: [ 0.2249605  -2.13872179 -1.74648565 -1.74648565 -3.80626361]\n",
      "New Weights:\n",
      "[0.01013898 0.06948741 0.40159127 0.41706502 0.82141671]\n",
      "[0.01013898 0.06948741 0.40159127 0.41706502 0.82141671]\n"
     ]
    }
   ],
   "source": [
    "# Implement Oja's rule here extending your previous implementation\n",
    "# of the simple Hebb rule. Note that this question on Oja's rule\n",
    "# uses a different dataset. So, don't forget to change the dataset\n",
    "# after you have copied the code to this block.\n",
    "\n",
    "import numpy as np\n",
    "\n",
    "\n",
    "# load data from the text file\n",
    "data = np.loadtxt('data_two_groups.txt', usecols=range(5))\n",
    "print(data[1:5,:])\n",
    "\n",
    "# we need a vector of 5 parameters\n",
    "w = np.random.normal(0, 0.5, 5)\n",
    "\n",
    "print(\"initial weights\")\n",
    "print(w)\n",
    "\n",
    "# learning rate; don't change the learning rate epsilon when you are working on questions 2 and 3, unless you really know what you are doing. You may want to make the learning rate dependent on the epoch number to converge to a stable solution.\n",
    "epsilon = 0.01\n",
    "\n",
    "num_iterations = 6\n",
    "\n",
    "update = 0\n",
    "# we can do a fixed number of iterations because the simple Hebb rule won't converge\n",
    "for i in range(num_iterations):\n",
    "    for x in data:\n",
    "\n",
    "        # compute the linear activation, use the dot() function from numpy to multiply the two array (w = weight and x = one array from data)\n",
    "        y_j = np.dot(w, x)\n",
    "\n",
    "        # compute the Oja’s normalization rule, \n",
    "        # First, multiply the array x (data) with y_j (linear activation calculated previously)\n",
    "        # Second, multiply the array x  with y_j squared\n",
    "        # Finally, subtract the first and the second step, and multiply the result with epsilon \n",
    "        oja = epsilon * ((y_j * x) - (y_j**2 * w))\n",
    "\n",
    "        # update the weights by adding the result of the Oja’s normalization rule with the old weight\n",
    "        w = w + oja\n",
    "\n",
    "        update = update + 1\n",
    "        if update % 10 == 0:\n",
    "            # print every 10th update\n",
    "            print(\"\\tCurrent input: \" + str(x))\n",
    "            # print the weights for every x to see how they are evolving\n",
    "            print(\"New Weights:\\n\" + str(w))\n",
    "\n",
    "# the final weights\n",
    "print(w)"
   ]
  },
  {
   "attachments": {},
   "cell_type": "markdown",
   "metadata": {
    "pycharm": {
     "name": "#%% md\n"
    }
   },
   "source": [
    "- **(3-5):** Run your implementation of Oja's rule on `data_two_groups.txt`. Use the vector of parameters $w$ that you will obtain using Oja's rule to project the original five-dimensional data into 1 dimension defined by $w$. The image that you will obtain should be similar to the one produced by PCA in `sklearn` above. The images may be identical if you have run Oja's rule until convergence, but this is not guaranteed. This step will allow you to see very clearly how a low dimensional representation (and hence data compression) can be achieved using Hebbian learning/Oja's rule or PCA."
   ]
  },
  {
   "cell_type": "code",
   "execution_count": 28,
   "metadata": {
    "vscode": {
     "languageId": "python"
    }
   },
   "outputs": [
    {
     "data": {
      "image/png": "[encoded data removed]",
      "text/plain": [
       "<Figure size 640x480 with 1 Axes>"
      ]
     },
     "metadata": {},
     "output_type": "display_data"
    }
   ],
   "source": [
    "import numpy as np\n",
    "import matplotlib.pyplot as plt\n",
    "from sklearn.decomposition import PCA\n",
    "\n",
    "new_data = []\n",
    "\n",
    "for x in data:\n",
    "    new_data.append(sum(w * x))\n",
    "\n",
    "plt.figure(1)\n",
    "yaxis = np.zeros(len(new_data))\n",
    "plt.scatter(new_data, yaxis)\n",
    "plt.show()"
   ]
  },
  {
   "attachments": {},
   "cell_type": "markdown",
   "metadata": {},
   "source": [
    "## Practical Exploration of Hebbian Learning - Part 2\n",
    "\n",
    "## Question 1 - PCA Applied to Iris Data\n",
    "\n",
    "The PCA implementation in this section is based on this example:\n",
    "https://scikit-learn.org/stable/auto_examples/decomposition/plot_incremental_pca.html#sphx-glr-auto-examples-decomposition-plot-incremental-pca-py"
   ]
  },
  {
   "cell_type": "code",
   "execution_count": 29,
   "metadata": {
    "vscode": {
     "languageId": "python"
    }
   },
   "outputs": [
    {
     "name": "stdout",
     "output_type": "stream",
     "text": [
      "                0           1           2           3\n",
      "count  150.000000  150.000000  150.000000  150.000000\n",
      "mean     5.843333    3.057333    3.758000    1.199333\n",
      "std      0.828066    0.435866    1.765298    0.762238\n",
      "min      4.300000    2.000000    1.000000    0.100000\n",
      "25%      5.100000    2.800000    1.600000    0.300000\n",
      "50%      5.800000    3.000000    4.350000    1.300000\n",
      "75%      6.400000    3.300000    5.100000    1.800000\n",
      "max      7.900000    4.400000    6.900000    2.500000\n"
     ]
    }
   ],
   "source": [
    "import math\n",
    "import numpy as np\n",
    "import matplotlib.pyplot as plt\n",
    "import pandas as pd\n",
    "\n",
    "from sklearn.datasets import load_iris\n",
    "from sklearn.decomposition import PCA\n",
    "\n",
    "# load the data from sklearn\n",
    "iris = load_iris()\n",
    "\n",
    "# X is np.ndarray and it contains four predictor attributes\n",
    "X = iris.data\n",
    "y = iris.target\n",
    "\n",
    "# print descriptive statistics using pandas data frame\n",
    "df_X = pd.DataFrame(X)\n",
    "print(df_X.describe())"
   ]
  },
  {
   "cell_type": "code",
   "execution_count": 30,
   "metadata": {
    "vscode": {
     "languageId": "python"
    }
   },
   "outputs": [
    {
     "name": "stdout",
     "output_type": "stream",
     "text": [
      "[[ 0.36138659 -0.08452251  0.85667061  0.3582892 ]\n",
      " [ 0.65658877  0.73016143 -0.17337266 -0.07548102]]\n",
      "[[-2.68412563  0.31939725]\n",
      " [-2.71414169 -0.17700123]\n",
      " [-2.88899057 -0.14494943]\n",
      " [-2.74534286 -0.31829898]\n",
      " [-2.72871654  0.32675451]]\n",
      "[[5.1 3.5 1.4 0.2]\n",
      " [4.9 3.  1.4 0.2]\n",
      " [4.7 3.2 1.3 0.2]\n",
      " [4.6 3.1 1.5 0.2]\n",
      " [5.  3.6 1.4 0.2]]\n"
     ]
    }
   ],
   "source": [
    "# the number of principal components\n",
    "n_components = 2\n",
    "\n",
    "pca = PCA(n_components=n_components)\n",
    "\n",
    "# We fit the model and then transform the data.\n",
    "\n",
    "# Fit the model to the data; this is where PCA will do what Hebbian learning does to compute one principal component\n",
    "pca.fit(X)\n",
    "\n",
    "# print the principal components\n",
    "print(pca.components_)\n",
    "\n",
    "# we can now transform the data and project it to 2 dimensions.\n",
    "X_pca = pca.transform(X)\n",
    "\n",
    "print(X_pca[:5,:])\n",
    "print(X[:5,:])"
   ]
  },
  {
   "attachments": {},
   "cell_type": "markdown",
   "metadata": {},
   "source": [
    "- **(1-2):** In the above code, identify Python variables that correspond to the symbol $y_j$ in our lecture notes. What is the range of $j$ in this example? How does the number of values of $y_j$ relate to the number of data examples?\n",
    "\n",
    "In the above code, y_j is represented by X_pca. The range of j is from 0 to 149. The number of values y_j reprensente the number of data, which is 150."
   ]
  },
  {
   "attachments": {},
   "cell_type": "markdown",
   "metadata": {},
   "source": [
    "## Question 3 - Scatterplot for Reconstruction Errors"
   ]
  },
  {
   "cell_type": "code",
   "execution_count": 31,
   "metadata": {
    "vscode": {
     "languageId": "python"
    }
   },
   "outputs": [
    {
     "name": "stdout",
     "output_type": "stream",
     "text": [
      "[[1.03073034 0.50488764]\n",
      " [0.73073034 0.35488764]\n",
      " [1.21073034 0.50488764]\n",
      " [1.46073034 1.55488764]\n",
      " [0.66073034 0.50488764]]\n",
      "the parameters/axis\n",
      "[[0.86285419 0.50545291]]\n",
      "data_pca is the 1D representation of our data:\n",
      "[[0.80989272]\n",
      " [1.29988067]\n",
      " [2.04631978]\n",
      " [0.82531087]]\n"
     ]
    },
    {
     "data": {
      "image/png": "[encoded data removed]",
      "text/plain": [
       "<Figure size 640x480 with 1 Axes>"
      ]
     },
     "metadata": {},
     "output_type": "display_data"
    }
   ],
   "source": [
    "from sklearn.datasets import load_wine\n",
    "import pandas as pd\n",
    "import matplotlib.pyplot as plt\n",
    "from numpy import linalg as LA\n",
    "import numpy as np\n",
    "\n",
    "wine = load_wine()\n",
    "#dfwine = pd.DataFrame(wine.data, columns=wine.feature_names)\n",
    "#print(dfwine.corr())\n",
    "\n",
    "# we select 2 features that are correlated in this dataset\n",
    "ind = [wine['feature_names'].index('flavanoids'), wine['feature_names'].index('total_phenols')]\n",
    "data = wine.data[:,ind]\n",
    "# we centre the data to make the code below simpler\n",
    "data = data - np.mean(data, axis=0)\n",
    "print(data[0:5,:])\n",
    "\n",
    "# we will extract 1 component; note that our data is 2D\n",
    "n_components = 1\n",
    "\n",
    "pca = PCA(n_components=n_components)\n",
    "\n",
    "# We fit the model and transform the data in one line.\n",
    "data_pca = pca.fit_transform(data)\n",
    "print(\"the parameters/axis\")\n",
    "print(pca.components_)\n",
    "print(\"data_pca is the 1D representation of our data:\")\n",
    "print(data_pca[1:5])\n",
    "\n",
    "# plot the data with the first PC\n",
    "plt.scatter(data[:,0], data[:,1])\n",
    "plt.quiver(pca.components_[0][0], pca.components_[0][1], color=['red'], scale=2)\n",
    "plt.show()\n",
    "\n",
    "# data is the original data, and data_pca is the low dimensional representation of the data\n",
    "# your next step is to compute data_rec, which will be the reconstruction of the original data using data_pca\n",
    "# we are interested in the errors between data and data_rec\n",
    "\n"
   ]
  },
  {
   "attachments": {},
   "cell_type": "markdown",
   "metadata": {},
   "source": [
    "- **(3-1)** Compute `data_rec`, which is the reconstruction of the original data from its compressed 1D representation that is stored in `data_pca`."
   ]
  },
  {
   "cell_type": "code",
   "execution_count": 32,
   "metadata": {
    "vscode": {
     "languageId": "python"
    }
   },
   "outputs": [
    {
     "name": "stdout",
     "output_type": "stream",
     "text": [
      "0.037332280636671246\n"
     ]
    },
    {
     "data": {
      "image/png": "[encoded data removed]",
      "text/plain": [
       "<Figure size 640x480 with 1 Axes>"
      ]
     },
     "metadata": {},
     "output_type": "display_data"
    }
   ],
   "source": [
    "# use pca.inverse_transform to obtain the projected data, which is the reconstruction of the original data (data_rec)\n",
    "data_rec = pca.inverse_transform(data_pca)\n",
    "\n",
    "# compute the error between data and data_rec using the mean squared error\n",
    "error = ((data - data_rec) ** 2).mean()\n",
    "print(error)\n",
    "\n",
    "plt.scatter(data_rec[:,0], data_rec[:,1])\n",
    "plt.quiver(pca.components_[0][0], pca.components_[0][1], color=['red'], scale=2)\n",
    "plt.show()"
   ]
  },
  {
   "attachments": {},
   "cell_type": "markdown",
   "metadata": {},
   "source": [
    "## Part 3: Question \n",
    "\n",
    "#### This question will require the students to engage with the scientific literature. The challenge is to compare the Delta Rule with the Perceptron learning algorithm. The comparison should highlight two differences of both methods. The differences can be related to both how these algorithms work and the properties of the learned models. A technical explanation is required, that is, every difference must be explained using technical terms. Cite the sources that will be used to answer this question. Use books or peer-reviewed scientific papers published in journals or conference-proceedings (blogs and websites are not in this category).\n",
    "</br></br>\n",
    "\n",
    "\n",
    "The first difference is the activation function. In one hand, [1] and [3] agree that the Delta Rule uses\n",
    "a continuous and differentiable activation function, like the sigmoid function. In order to update the\n",
    "weights and bias using gradient descent, the error function must be differentiable. On the other\n",
    "hand, the Perceptron use a different type of function activation, they did not use gradient descent\n",
    "method, it generally utilizes a binary activation function or step function. Rosenblatt as cited in [4]\n",
    "claims that… [4] use the essay of Rosenblatt and notice that ‘The outputs of the first layer feed a\n",
    "second layer, which consiste of a single adaptive linear threshold element. More than the\n",
    "convention that its input signals were {I, 0} binary, and that no bias weight was included.’, which\n",
    "prove that Perceptron usually works with binary activation. In addition [5] agrees with the binary\n",
    "activation.\n",
    "</br></br>\n",
    "\n",
    "The second change is the learning Rule. As described in the first paragraph, Delta Rule uses the\n",
    "gradient descent algorithm. [1], [2] and [4] consent that the gradient rules change the weights and\n",
    "bias on each demonstration, based on the by meansquare error between the final and the desired\n",
    "output. However, [5] and [4] agrees that perceptron uses a simple learning rule. [4] explains its\n",
    "process by saying that the weights and bias are altered, to make the prediction more accurate, only\n",
    "if the final output is different from the desired output.\n",
    "\n",
    "\n",
    "## References\n",
    "\n",
    "[1] Mutasem khalil Alsmadi, Khairuddin Bin Omar, Shahrul Azman Noah, Ibrahim Almarashdah 2009.\n",
    "Performance Comparison of Multi-layer Perceptron (Back Propagation, Delta Rule and Perceptron)\n",
    "algorithms in Neural Networks. Available at : < https://ieeexplore.ieee.org/abstract/document/4809024 > [Accessed 9th Jan 2023]\n",
    "</br>\n",
    "[2] Thad A. Polk, Colleen M. Seifert 2002. Cognitive Modeling p.393. Available at : < https://books.google.ca/books?hl=fr&lr=&id=FJblV_iOPjIC&oi=fnd&pg=PA213&dq=Learning+repres\n",
    "entations+by+back-propagating+errors&ots=z-Jm1hIVRR&sig=vDCc_-TpAok3DvHW6e8xrFQcf8&redir_esc=y#v=snippet&q=delta%20rule&f=false > [Accessed 9th Jan 2023]\n",
    "</br>\n",
    "[3] Dean A. Pomerleau 1987. The Meta-Generalized Delta Rule: A New Algorithm for Learning in\n",
    "Connectionist Networks. Available at : < https://apps.dtic.mil/sti/pdfs/ADA218859.pdf > [Accessed 9th Jan 2023]\n",
    "</br>\n",
    "[4] B. Widrow, Michael Lehr 1990. 30 years of adaptive neural networks: Perceptron, Madaline, and\n",
    "backpropagation. Available at : < https://www.researchgate.net/publication/2984342_30_years_of_adaptive_neural_networks_Perc\n",
    "eptron_Madaline_and_backpropagation > [Accessed 9th Jan 2023]\n",
    "</br>\n",
    "[5] Peter Auera, Harald Burgsteinerb, Wolfgang Maassc 2008. A learning rule for very simple\n",
    "universal approximators consisting of a single layer of perceptrons. Available at : < https://igiweb.tugraz.at/PDF/126.pdf > [Accessed 9th Jan 2023]"
   ]
  },
  {
   "attachments": {},
   "cell_type": "markdown",
   "metadata": {},
   "source": [
    "## References\n",
    "\n",
    "O'Reilly, Randall C., and Yuko Munakata. Computational explorations in cognitive neuroscience: Understanding the mind by simulating the brain. MIT press, 2000."
   ]
  }
 ],
 "metadata": {
  "kernelspec": {
   "display_name": "Python 3 (ipykernel)",
   "language": "python",
   "name": "python3"
  },
  "vscode": {
   "interpreter": {
    "hash": "916dbcbb3f70747c44a77c7bcd40155683ae19c65e1c03b4aa3499c5328201f1"
   }
  }
 },
 "nbformat": 4,
 "nbformat_minor": 1
}
